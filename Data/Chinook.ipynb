{
 "cells": [
  {
   "cell_type": "markdown",
   "id": "4a092ee1",
   "metadata": {},
   "source": [
    "![png](Data/ERD.png)"
   ]
  },
  {
   "cell_type": "code",
   "execution_count": null,
   "id": "c3e2d6a9",
   "metadata": {},
   "outputs": [],
   "source": []
  }
 ],
 "metadata": {
  "kernelspec": {
   "display_name": "Python (dojo-env)",
   "language": "python",
   "name": "dojo-env"
  },
  "language_info": {
   "codemirror_mode": {
    "name": "ipython",
    "version": 3
   },
   "file_extension": ".py",
   "mimetype": "text/x-python",
   "name": "python",
   "nbconvert_exporter": "python",
   "pygments_lexer": "ipython3",
   "version": "3.9.15"
  }
 },
 "nbformat": 4,
 "nbformat_minor": 5
}
